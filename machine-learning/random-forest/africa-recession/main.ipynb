{
 "cells": [
  {
   "cell_type": "code",
   "execution_count": 14,
   "metadata": {},
   "outputs": [],
   "source": [
    "import numpy as np\n",
    "import pandas as pd\n",
    "from sklearn.ensemble import RandomForestClassifier\n",
    "from sklearn.metrics import accuracy_score\n",
    "from sklearn.model_selection import train_test_split"
   ]
  },
  {
   "cell_type": "code",
   "execution_count": 2,
   "metadata": {},
   "outputs": [],
   "source": [
    "df = pd.read_csv(\"africa_recession.csv\")"
   ]
  },
  {
   "cell_type": "code",
   "execution_count": 3,
   "metadata": {},
   "outputs": [
    {
     "data": {
      "text/html": [
       "<div>\n",
       "<style scoped>\n",
       "    .dataframe tbody tr th:only-of-type {\n",
       "        vertical-align: middle;\n",
       "    }\n",
       "\n",
       "    .dataframe tbody tr th {\n",
       "        vertical-align: top;\n",
       "    }\n",
       "\n",
       "    .dataframe thead th {\n",
       "        text-align: right;\n",
       "    }\n",
       "</style>\n",
       "<table border=\"1\" class=\"dataframe\">\n",
       "  <thead>\n",
       "    <tr style=\"text-align: right;\">\n",
       "      <th></th>\n",
       "      <th>pop</th>\n",
       "      <th>emp</th>\n",
       "      <th>emp_to_pop_ratio</th>\n",
       "      <th>hc</th>\n",
       "      <th>ccon</th>\n",
       "      <th>cda</th>\n",
       "      <th>cn</th>\n",
       "      <th>ck</th>\n",
       "      <th>ctfp</th>\n",
       "      <th>cwtfp</th>\n",
       "      <th>...</th>\n",
       "      <th>agriculture</th>\n",
       "      <th>fish</th>\n",
       "      <th>total_change</th>\n",
       "      <th>excl_energy_change</th>\n",
       "      <th>energy_change</th>\n",
       "      <th>metals_minerals_change</th>\n",
       "      <th>forestry_change</th>\n",
       "      <th>agriculture_change</th>\n",
       "      <th>fish_change</th>\n",
       "      <th>growthbucket</th>\n",
       "    </tr>\n",
       "  </thead>\n",
       "  <tbody>\n",
       "    <tr>\n",
       "      <th>0</th>\n",
       "      <td>28.849621</td>\n",
       "      <td>6.914298</td>\n",
       "      <td>0.239667</td>\n",
       "      <td>1.547767</td>\n",
       "      <td>99010.171880</td>\n",
       "      <td>131991.375000</td>\n",
       "      <td>426543.343800</td>\n",
       "      <td>0.009374</td>\n",
       "      <td>0.648979</td>\n",
       "      <td>0.626111</td>\n",
       "      <td>...</td>\n",
       "      <td>149.37</td>\n",
       "      <td>876.46</td>\n",
       "      <td>0.264843</td>\n",
       "      <td>0.012115</td>\n",
       "      <td>0.717188</td>\n",
       "      <td>0.099935</td>\n",
       "      <td>-0.061177</td>\n",
       "      <td>0.073986</td>\n",
       "      <td>0.007576</td>\n",
       "      <td>0</td>\n",
       "    </tr>\n",
       "    <tr>\n",
       "      <th>1</th>\n",
       "      <td>45.728313</td>\n",
       "      <td>13.623806</td>\n",
       "      <td>0.297929</td>\n",
       "      <td>2.086037</td>\n",
       "      <td>316862.656300</td>\n",
       "      <td>374842.343800</td>\n",
       "      <td>804602.250000</td>\n",
       "      <td>0.019658</td>\n",
       "      <td>0.719390</td>\n",
       "      <td>0.657543</td>\n",
       "      <td>...</td>\n",
       "      <td>149.37</td>\n",
       "      <td>876.46</td>\n",
       "      <td>0.264843</td>\n",
       "      <td>0.012115</td>\n",
       "      <td>0.717188</td>\n",
       "      <td>0.099935</td>\n",
       "      <td>-0.061177</td>\n",
       "      <td>0.073986</td>\n",
       "      <td>0.007576</td>\n",
       "      <td>0</td>\n",
       "    </tr>\n",
       "    <tr>\n",
       "      <th>2</th>\n",
       "      <td>33.262043</td>\n",
       "      <td>13.323813</td>\n",
       "      <td>0.400571</td>\n",
       "      <td>1.498783</td>\n",
       "      <td>29762.876950</td>\n",
       "      <td>36584.992190</td>\n",
       "      <td>67072.593750</td>\n",
       "      <td>0.001670</td>\n",
       "      <td>0.308652</td>\n",
       "      <td>0.292607</td>\n",
       "      <td>...</td>\n",
       "      <td>149.37</td>\n",
       "      <td>876.46</td>\n",
       "      <td>0.264843</td>\n",
       "      <td>0.012115</td>\n",
       "      <td>0.717188</td>\n",
       "      <td>0.099935</td>\n",
       "      <td>-0.061177</td>\n",
       "      <td>0.073986</td>\n",
       "      <td>0.007576</td>\n",
       "      <td>0</td>\n",
       "    </tr>\n",
       "    <tr>\n",
       "      <th>3</th>\n",
       "      <td>8.025703</td>\n",
       "      <td>3.869000</td>\n",
       "      <td>0.482076</td>\n",
       "      <td>1.356151</td>\n",
       "      <td>6488.692871</td>\n",
       "      <td>7006.969727</td>\n",
       "      <td>5790.396973</td>\n",
       "      <td>0.000184</td>\n",
       "      <td>0.205865</td>\n",
       "      <td>0.234643</td>\n",
       "      <td>...</td>\n",
       "      <td>149.37</td>\n",
       "      <td>876.46</td>\n",
       "      <td>0.264843</td>\n",
       "      <td>0.012115</td>\n",
       "      <td>0.717188</td>\n",
       "      <td>0.099935</td>\n",
       "      <td>-0.061177</td>\n",
       "      <td>0.073986</td>\n",
       "      <td>0.007576</td>\n",
       "      <td>0</td>\n",
       "    </tr>\n",
       "    <tr>\n",
       "      <th>4</th>\n",
       "      <td>1.061468</td>\n",
       "      <td>0.243000</td>\n",
       "      <td>0.228928</td>\n",
       "      <td>1.676330</td>\n",
       "      <td>7620.187500</td>\n",
       "      <td>8419.264648</td>\n",
       "      <td>16907.236330</td>\n",
       "      <td>0.000431</td>\n",
       "      <td>0.959765</td>\n",
       "      <td>0.993985</td>\n",
       "      <td>...</td>\n",
       "      <td>149.37</td>\n",
       "      <td>876.46</td>\n",
       "      <td>0.264843</td>\n",
       "      <td>0.012115</td>\n",
       "      <td>0.717188</td>\n",
       "      <td>0.099935</td>\n",
       "      <td>-0.061177</td>\n",
       "      <td>0.073986</td>\n",
       "      <td>0.007576</td>\n",
       "      <td>0</td>\n",
       "    </tr>\n",
       "  </tbody>\n",
       "</table>\n",
       "<p>5 rows × 50 columns</p>\n",
       "</div>"
      ],
      "text/plain": [
       "         pop        emp  emp_to_pop_ratio        hc           ccon  \\\n",
       "0  28.849621   6.914298          0.239667  1.547767   99010.171880   \n",
       "1  45.728313  13.623806          0.297929  2.086037  316862.656300   \n",
       "2  33.262043  13.323813          0.400571  1.498783   29762.876950   \n",
       "3   8.025703   3.869000          0.482076  1.356151    6488.692871   \n",
       "4   1.061468   0.243000          0.228928  1.676330    7620.187500   \n",
       "\n",
       "             cda             cn        ck      ctfp     cwtfp  ...  \\\n",
       "0  131991.375000  426543.343800  0.009374  0.648979  0.626111  ...   \n",
       "1  374842.343800  804602.250000  0.019658  0.719390  0.657543  ...   \n",
       "2   36584.992190   67072.593750  0.001670  0.308652  0.292607  ...   \n",
       "3    7006.969727    5790.396973  0.000184  0.205865  0.234643  ...   \n",
       "4    8419.264648   16907.236330  0.000431  0.959765  0.993985  ...   \n",
       "\n",
       "   agriculture    fish  total_change  excl_energy_change  energy_change  \\\n",
       "0       149.37  876.46      0.264843            0.012115       0.717188   \n",
       "1       149.37  876.46      0.264843            0.012115       0.717188   \n",
       "2       149.37  876.46      0.264843            0.012115       0.717188   \n",
       "3       149.37  876.46      0.264843            0.012115       0.717188   \n",
       "4       149.37  876.46      0.264843            0.012115       0.717188   \n",
       "\n",
       "   metals_minerals_change  forestry_change  agriculture_change  fish_change  \\\n",
       "0                0.099935        -0.061177            0.073986     0.007576   \n",
       "1                0.099935        -0.061177            0.073986     0.007576   \n",
       "2                0.099935        -0.061177            0.073986     0.007576   \n",
       "3                0.099935        -0.061177            0.073986     0.007576   \n",
       "4                0.099935        -0.061177            0.073986     0.007576   \n",
       "\n",
       "   growthbucket  \n",
       "0             0  \n",
       "1             0  \n",
       "2             0  \n",
       "3             0  \n",
       "4             0  \n",
       "\n",
       "[5 rows x 50 columns]"
      ]
     },
     "execution_count": 3,
     "metadata": {},
     "output_type": "execute_result"
    }
   ],
   "source": [
    "df.head()"
   ]
  },
  {
   "cell_type": "code",
   "execution_count": 4,
   "metadata": {},
   "outputs": [
    {
     "name": "stdout",
     "output_type": "stream",
     "text": [
      "<class 'pandas.core.frame.DataFrame'>\n",
      "RangeIndex: 486 entries, 0 to 485\n",
      "Data columns (total 50 columns):\n",
      " #   Column                  Non-Null Count  Dtype  \n",
      "---  ------                  --------------  -----  \n",
      " 0   pop                     486 non-null    float64\n",
      " 1   emp                     486 non-null    float64\n",
      " 2   emp_to_pop_ratio        486 non-null    float64\n",
      " 3   hc                      486 non-null    float64\n",
      " 4   ccon                    486 non-null    float64\n",
      " 5   cda                     486 non-null    float64\n",
      " 6   cn                      486 non-null    float64\n",
      " 7   ck                      486 non-null    float64\n",
      " 8   ctfp                    486 non-null    float64\n",
      " 9   cwtfp                   486 non-null    float64\n",
      " 10  rconna                  486 non-null    float64\n",
      " 11  rdana                   486 non-null    float64\n",
      " 12  rnna                    486 non-null    float64\n",
      " 13  rkna                    486 non-null    float64\n",
      " 14  rtfpna                  486 non-null    float64\n",
      " 15  rwtfpna                 486 non-null    float64\n",
      " 16  labsh                   486 non-null    float64\n",
      " 17  irr                     486 non-null    float64\n",
      " 18  delta                   486 non-null    float64\n",
      " 19  xr                      486 non-null    float64\n",
      " 20  pl_con                  486 non-null    float64\n",
      " 21  pl_da                   486 non-null    float64\n",
      " 22  pl_gdpo                 486 non-null    float64\n",
      " 23  csh_c                   486 non-null    float64\n",
      " 24  csh_i                   486 non-null    float64\n",
      " 25  csh_g                   486 non-null    float64\n",
      " 26  csh_x                   486 non-null    float64\n",
      " 27  csh_m                   486 non-null    float64\n",
      " 28  csh_r                   486 non-null    float64\n",
      " 29  pl_c                    486 non-null    float64\n",
      " 30  pl_i                    486 non-null    float64\n",
      " 31  pl_g                    486 non-null    float64\n",
      " 32  pl_x                    486 non-null    float64\n",
      " 33  pl_m                    486 non-null    float64\n",
      " 34  pl_n                    486 non-null    float64\n",
      " 35  total                   486 non-null    float64\n",
      " 36  excl_energy             486 non-null    float64\n",
      " 37  energy                  486 non-null    float64\n",
      " 38  metals_minerals         486 non-null    float64\n",
      " 39  forestry                486 non-null    float64\n",
      " 40  agriculture             486 non-null    float64\n",
      " 41  fish                    486 non-null    float64\n",
      " 42  total_change            486 non-null    float64\n",
      " 43  excl_energy_change      486 non-null    float64\n",
      " 44  energy_change           486 non-null    float64\n",
      " 45  metals_minerals_change  486 non-null    float64\n",
      " 46  forestry_change         486 non-null    float64\n",
      " 47  agriculture_change      486 non-null    float64\n",
      " 48  fish_change             486 non-null    float64\n",
      " 49  growthbucket            486 non-null    int64  \n",
      "dtypes: float64(49), int64(1)\n",
      "memory usage: 190.0 KB\n"
     ]
    }
   ],
   "source": [
    "df.info()"
   ]
  },
  {
   "cell_type": "code",
   "execution_count": 5,
   "metadata": {},
   "outputs": [
    {
     "data": {
      "text/plain": [
       "pop                       0\n",
       "emp                       0\n",
       "emp_to_pop_ratio          0\n",
       "hc                        0\n",
       "ccon                      0\n",
       "cda                       0\n",
       "cn                        0\n",
       "ck                        0\n",
       "ctfp                      0\n",
       "cwtfp                     0\n",
       "rconna                    0\n",
       "rdana                     0\n",
       "rnna                      0\n",
       "rkna                      0\n",
       "rtfpna                    0\n",
       "rwtfpna                   0\n",
       "labsh                     0\n",
       "irr                       0\n",
       "delta                     0\n",
       "xr                        0\n",
       "pl_con                    0\n",
       "pl_da                     0\n",
       "pl_gdpo                   0\n",
       "csh_c                     0\n",
       "csh_i                     0\n",
       "csh_g                     0\n",
       "csh_x                     0\n",
       "csh_m                     0\n",
       "csh_r                     0\n",
       "pl_c                      0\n",
       "pl_i                      0\n",
       "pl_g                      0\n",
       "pl_x                      0\n",
       "pl_m                      0\n",
       "pl_n                      0\n",
       "total                     0\n",
       "excl_energy               0\n",
       "energy                    0\n",
       "metals_minerals           0\n",
       "forestry                  0\n",
       "agriculture               0\n",
       "fish                      0\n",
       "total_change              0\n",
       "excl_energy_change        0\n",
       "energy_change             0\n",
       "metals_minerals_change    0\n",
       "forestry_change           0\n",
       "agriculture_change        0\n",
       "fish_change               0\n",
       "growthbucket              0\n",
       "dtype: int64"
      ]
     },
     "execution_count": 5,
     "metadata": {},
     "output_type": "execute_result"
    }
   ],
   "source": [
    "df.isna().sum()"
   ]
  },
  {
   "cell_type": "code",
   "execution_count": 6,
   "metadata": {},
   "outputs": [
    {
     "name": "stdout",
     "output_type": "stream",
     "text": [
      "Index(['pop', 'emp', 'emp_to_pop_ratio', 'hc', 'ccon', 'cda', 'cn', 'ck',\n",
      "       'ctfp', 'cwtfp', 'rconna', 'rdana', 'rnna', 'rkna', 'rtfpna', 'rwtfpna',\n",
      "       'labsh', 'irr', 'delta', 'xr', 'pl_con', 'pl_da', 'pl_gdpo', 'csh_c',\n",
      "       'csh_i', 'csh_g', 'csh_x', 'csh_m', 'csh_r', 'pl_c', 'pl_i', 'pl_g',\n",
      "       'pl_x', 'pl_m', 'pl_n', 'total', 'excl_energy', 'energy',\n",
      "       'metals_minerals', 'forestry', 'agriculture', 'fish', 'total_change',\n",
      "       'excl_energy_change', 'energy_change', 'metals_minerals_change',\n",
      "       'forestry_change', 'agriculture_change', 'fish_change', 'growthbucket'],\n",
      "      dtype='object')\n"
     ]
    }
   ],
   "source": [
    "from pprint import pprint\n",
    "\n",
    "# print all the columns\n",
    "pprint(df.columns)"
   ]
  },
  {
   "cell_type": "code",
   "execution_count": 7,
   "metadata": {},
   "outputs": [],
   "source": [
    "# Select the appropriate features using sklearn\n",
    "from sklearn.feature_selection import SelectKBest, f_classif\n",
    "\n",
    "X = df.drop([\"growthbucket\"], axis=1).values\n",
    "y = df[\"growthbucket\"].values\n",
    "\n",
    "X = SelectKBest(f_classif, k=5).fit_transform(X, y)\n",
    "\n",
    "X_train, X_test, y_train, y_test = train_test_split(\n",
    "    X, y, test_size=0.2, random_state=42\n",
    ")"
   ]
  },
  {
   "cell_type": "code",
   "execution_count": 10,
   "metadata": {},
   "outputs": [
    {
     "name": "stdout",
     "output_type": "stream",
     "text": [
      "Index(['pop', 'emp', 'emp_to_pop_ratio', 'hc', 'ccon'], dtype='object')\n"
     ]
    }
   ],
   "source": [
    "# Show the columns that were selected without df\n",
    "selected = SelectKBest(f_classif, k=5).fit(X, y)\n",
    "\n",
    "# Get the indices of the columns that were selected\n",
    "idxs = selected.get_support(indices=True)\n",
    "\n",
    "# Get the names of the columns that were selected\n",
    "cols = df.columns[idxs]\n",
    "\n",
    "# Print the names of the columns that were selected\n",
    "print(cols)"
   ]
  },
  {
   "cell_type": "code",
   "execution_count": 11,
   "metadata": {},
   "outputs": [
    {
     "data": {
      "text/html": [
       "<style>#sk-container-id-1 {color: black;background-color: white;}#sk-container-id-1 pre{padding: 0;}#sk-container-id-1 div.sk-toggleable {background-color: white;}#sk-container-id-1 label.sk-toggleable__label {cursor: pointer;display: block;width: 100%;margin-bottom: 0;padding: 0.3em;box-sizing: border-box;text-align: center;}#sk-container-id-1 label.sk-toggleable__label-arrow:before {content: \"▸\";float: left;margin-right: 0.25em;color: #696969;}#sk-container-id-1 label.sk-toggleable__label-arrow:hover:before {color: black;}#sk-container-id-1 div.sk-estimator:hover label.sk-toggleable__label-arrow:before {color: black;}#sk-container-id-1 div.sk-toggleable__content {max-height: 0;max-width: 0;overflow: hidden;text-align: left;background-color: #f0f8ff;}#sk-container-id-1 div.sk-toggleable__content pre {margin: 0.2em;color: black;border-radius: 0.25em;background-color: #f0f8ff;}#sk-container-id-1 input.sk-toggleable__control:checked~div.sk-toggleable__content {max-height: 200px;max-width: 100%;overflow: auto;}#sk-container-id-1 input.sk-toggleable__control:checked~label.sk-toggleable__label-arrow:before {content: \"▾\";}#sk-container-id-1 div.sk-estimator input.sk-toggleable__control:checked~label.sk-toggleable__label {background-color: #d4ebff;}#sk-container-id-1 div.sk-label input.sk-toggleable__control:checked~label.sk-toggleable__label {background-color: #d4ebff;}#sk-container-id-1 input.sk-hidden--visually {border: 0;clip: rect(1px 1px 1px 1px);clip: rect(1px, 1px, 1px, 1px);height: 1px;margin: -1px;overflow: hidden;padding: 0;position: absolute;width: 1px;}#sk-container-id-1 div.sk-estimator {font-family: monospace;background-color: #f0f8ff;border: 1px dotted black;border-radius: 0.25em;box-sizing: border-box;margin-bottom: 0.5em;}#sk-container-id-1 div.sk-estimator:hover {background-color: #d4ebff;}#sk-container-id-1 div.sk-parallel-item::after {content: \"\";width: 100%;border-bottom: 1px solid gray;flex-grow: 1;}#sk-container-id-1 div.sk-label:hover label.sk-toggleable__label {background-color: #d4ebff;}#sk-container-id-1 div.sk-serial::before {content: \"\";position: absolute;border-left: 1px solid gray;box-sizing: border-box;top: 0;bottom: 0;left: 50%;z-index: 0;}#sk-container-id-1 div.sk-serial {display: flex;flex-direction: column;align-items: center;background-color: white;padding-right: 0.2em;padding-left: 0.2em;position: relative;}#sk-container-id-1 div.sk-item {position: relative;z-index: 1;}#sk-container-id-1 div.sk-parallel {display: flex;align-items: stretch;justify-content: center;background-color: white;position: relative;}#sk-container-id-1 div.sk-item::before, #sk-container-id-1 div.sk-parallel-item::before {content: \"\";position: absolute;border-left: 1px solid gray;box-sizing: border-box;top: 0;bottom: 0;left: 50%;z-index: -1;}#sk-container-id-1 div.sk-parallel-item {display: flex;flex-direction: column;z-index: 1;position: relative;background-color: white;}#sk-container-id-1 div.sk-parallel-item:first-child::after {align-self: flex-end;width: 50%;}#sk-container-id-1 div.sk-parallel-item:last-child::after {align-self: flex-start;width: 50%;}#sk-container-id-1 div.sk-parallel-item:only-child::after {width: 0;}#sk-container-id-1 div.sk-dashed-wrapped {border: 1px dashed gray;margin: 0 0.4em 0.5em 0.4em;box-sizing: border-box;padding-bottom: 0.4em;background-color: white;}#sk-container-id-1 div.sk-label label {font-family: monospace;font-weight: bold;display: inline-block;line-height: 1.2em;}#sk-container-id-1 div.sk-label-container {text-align: center;}#sk-container-id-1 div.sk-container {/* jupyter's `normalize.less` sets `[hidden] { display: none; }` but bootstrap.min.css set `[hidden] { display: none !important; }` so we also need the `!important` here to be able to override the default hidden behavior on the sphinx rendered scikit-learn.org. See: https://github.com/scikit-learn/scikit-learn/issues/21755 */display: inline-block !important;position: relative;}#sk-container-id-1 div.sk-text-repr-fallback {display: none;}</style><div id=\"sk-container-id-1\" class=\"sk-top-container\"><div class=\"sk-text-repr-fallback\"><pre>RandomForestClassifier()</pre><b>In a Jupyter environment, please rerun this cell to show the HTML representation or trust the notebook. <br />On GitHub, the HTML representation is unable to render, please try loading this page with nbviewer.org.</b></div><div class=\"sk-container\" hidden><div class=\"sk-item\"><div class=\"sk-estimator sk-toggleable\"><input class=\"sk-toggleable__control sk-hidden--visually\" id=\"sk-estimator-id-1\" type=\"checkbox\" checked><label for=\"sk-estimator-id-1\" class=\"sk-toggleable__label sk-toggleable__label-arrow\">RandomForestClassifier</label><div class=\"sk-toggleable__content\"><pre>RandomForestClassifier()</pre></div></div></div></div></div>"
      ],
      "text/plain": [
       "RandomForestClassifier()"
      ]
     },
     "execution_count": 11,
     "metadata": {},
     "output_type": "execute_result"
    }
   ],
   "source": [
    "# Build the model\n",
    "model = RandomForestClassifier()\n",
    "\n",
    "model.fit(X_train, y_train)"
   ]
  },
  {
   "cell_type": "code",
   "execution_count": 12,
   "metadata": {},
   "outputs": [
    {
     "name": "stdout",
     "output_type": "stream",
     "text": [
      "Accuracy: 0.9285714285714286\n"
     ]
    }
   ],
   "source": [
    "# Predict the test set\n",
    "y_pred = model.predict(X_test)\n",
    "\n",
    "# Print the accuracy\n",
    "print(f\"Accuracy: {accuracy_score(y_pred, y_test)}\")"
   ]
  },
  {
   "cell_type": "code",
   "execution_count": 16,
   "metadata": {},
   "outputs": [
    {
     "data": {
      "image/png": "[encoded data removed]",
      "text/plain": [
       "<Figure size 1000x600 with 1 Axes>"
      ]
     },
     "metadata": {},
     "output_type": "display_data"
    }
   ],
   "source": [
    "# Show the accuracy of the model in graph form\n",
    "import matplotlib.pyplot as plt\n",
    "\n",
    "plt.figure(figsize=(10, 6))\n",
    "plt.barh(cols, model.feature_importances_)\n",
    "plt.title(\"Feature Importance\")\n",
    "plt.show()"
   ]
  },
  {
   "cell_type": "code",
   "execution_count": null,
   "metadata": {},
   "outputs": [],
   "source": []
  }
 ],
 "metadata": {
  "kernelspec": {
   "display_name": "ML-guide-and-implementation-wY8fwOIL",
   "language": "python",
   "name": "python3"
  },
  "language_info": {
   "codemirror_mode": {
    "name": "ipython",
    "version": 3
   },
   "file_extension": ".py",
   "mimetype": "text/x-python",
   "name": "python",
   "nbconvert_exporter": "python",
   "pygments_lexer": "ipython3",
   "version": "3.10.9"
  },
  "orig_nbformat": 4,
  "vscode": {
   "interpreter": {
    "hash": "8f1b49a675dba4c2e19e50f1d4c6b3ed281cf2a599a76fb5fceffdc2802fb5df"
   }
  }
 },
 "nbformat": 4,
 "nbformat_minor": 2
}
